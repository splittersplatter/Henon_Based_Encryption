{
 "cells": [
  {
   "cell_type": "code",
   "execution_count": null,
   "id": "f32dc557",
   "metadata": {},
   "outputs": [],
   "source": [
    "import socket\n",
    "import numpy as np\n",
    "\n",
    "a = 1.4\n",
    "b = 0.3\n",
    "x0 = 0\n",
    "y0 = 0\n",
    "\n",
    "# --- Henon map functions ---\n",
    "def henon_map(x, y):\n",
    "    return 1 - a*x**2 + y , b*x\n",
    "\n",
    "def generate_chaos_sequence(length):\n",
    "    global x0,y0\n",
    "    seq = []\n",
    "    for _ in range(length):\n",
    "        x0,y0 = henon_map(x0, y0)\n",
    "        seq.append(int(x0 * 255) % 256)\n",
    "    return seq\n",
    "\n",
    "def decrypt_message(encrypted_bytes):\n",
    "    chaos_seq = generate_chaos_sequence(len(encrypted_bytes))\n",
    "    decrypted_bytes = [(e ^ k) for e, k in zip(encrypted_bytes, chaos_seq)]\n",
    "    decrypted_message = ''.join(chr(b) for b in decrypted_bytes)\n",
    "    return decrypted_message"
   ]
  },
  {
   "cell_type": "code",
   "execution_count": null,
   "id": "a3916aec",
   "metadata": {},
   "outputs": [],
   "source": [
    "\n",
    "# --- Server setup ---\n",
    "HOST = 'SERVER IP'  # <- Paste the server's IP address\n",
    "PORT = 65432\n",
    "\n",
    "server_socket = socket.socket(socket.AF_INET, socket.SOCK_STREAM)\n",
    "server_socket.bind((HOST, PORT))\n",
    "server_socket.listen(1)\n",
    "\n",
    "print(f\"Server listening on port {PORT}...\")\n",
    "\n",
    "conn, addr = server_socket.accept()\n",
    "print(f\"Connected by {addr}\")\n",
    "\n",
    "while True:\n",
    "    data = conn.recv(4096)\n",
    "    if not data:\n",
    "        break\n",
    "    encrypted = list(data)\n",
    "    decrypted = decrypt_message(encrypted)\n",
    "    print(f\"Received (encrypted): {encrypted}\")\n",
    "    print(f\"Received (decrypted): {decrypted}\")\n",
    "\n",
    "conn.close()\n"
   ]
  }
 ],
 "metadata": {
  "kernelspec": {
   "display_name": "base",
   "language": "python",
   "name": "python3"
  },
  "language_info": {
   "codemirror_mode": {
    "name": "ipython",
    "version": 3
   },
   "file_extension": ".py",
   "mimetype": "text/x-python",
   "name": "python",
   "nbconvert_exporter": "python",
   "pygments_lexer": "ipython3",
   "version": "3.12.7"
  }
 },
 "nbformat": 4,
 "nbformat_minor": 5
}
