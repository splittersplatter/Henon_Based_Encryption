{
 "cells": [
  {
   "cell_type": "code",
   "execution_count": null,
   "id": "5ed65725",
   "metadata": {},
   "outputs": [],
   "source": [
    "import socket\n",
    "import numpy as np\n",
    "\n",
    "a = 1.4\n",
    "b = 0.3\n",
    "x0 = 0\n",
    "y0 = 0\n",
    "\n",
    "# --- Henon map functions ---\n",
    "def henon_map(x, y):\n",
    "    return 1 - a*x**2 + y , b*x\n",
    "\n",
    "def generate_chaos_sequence(length):\n",
    "    global x0,y0\n",
    "    seq = []\n",
    "    for _ in range(length):\n",
    "        x0,y0 = henon_map(x0,y0)\n",
    "        seq.append(int(x0 * 255) % 256)\n",
    "    return seq\n",
    "\n",
    "def encrypt_message(message):\n",
    "    message_bytes = [ord(c) for c in message]\n",
    "    chaos_seq = generate_chaos_sequence(len(message_bytes))\n",
    "    encrypted = [(m ^ k) for m, k in zip(message_bytes, chaos_seq)]\n",
    "    return bytes(encrypted)"
   ]
  },
  {
   "cell_type": "markdown",
   "id": "691e5862",
   "metadata": {},
   "source": []
  },
  {
   "cell_type": "code",
   "execution_count": null,
   "id": "84f9d30f",
   "metadata": {},
   "outputs": [],
   "source": [
    "\n",
    "# --- Client setup ---\n",
    "HOST = 'SERVER IP'  # <-- Replace with server's IP address\n",
    "PORT = 65432\n",
    "\n",
    "client_socket = socket.socket(socket.AF_INET, socket.SOCK_STREAM)\n",
    "client_socket.connect((HOST, PORT))\n",
    "\n",
    "while True:\n",
    "    message = input(\"Enter message to send (or 'exit'): \")\n",
    "    if message.lower() == 'exit':\n",
    "        break\n",
    "    encrypted = encrypt_message(message)\n",
    "    client_socket.sendall(encrypted)\n",
    "\n",
    "client_socket.close()"
   ]
  }
 ],
 "metadata": {
  "kernelspec": {
   "display_name": "base",
   "language": "python",
   "name": "python3"
  },
  "language_info": {
   "codemirror_mode": {
    "name": "ipython",
    "version": 3
   },
   "file_extension": ".py",
   "mimetype": "text/x-python",
   "name": "python",
   "nbconvert_exporter": "python",
   "pygments_lexer": "ipython3",
   "version": "3.12.7"
  }
 },
 "nbformat": 4,
 "nbformat_minor": 5
}
