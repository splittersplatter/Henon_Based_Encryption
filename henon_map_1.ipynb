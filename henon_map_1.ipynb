{
 "cells": [
  {
   "cell_type": "code",
   "execution_count": null,
   "id": "a2073e03",
   "metadata": {},
   "outputs": [],
   "source": [
    "%matplotlib widget\n",
    "import numpy as np\n",
    "import matplotlib.pyplot as plt\n",
    "from matplotlib.animation import FuncAnimation\n",
    "\n",
    "# Parameters\n",
    "a = 1.4\n",
    "b = 0.3\n",
    "num_points = 10000\n",
    "x, y = 0.1, 0.1\n",
    "\n",
    "x_vals = []\n",
    "y_vals = []\n",
    "for _ in range(num_points):\n",
    "    x_new = 1 - a * x**2 + y\n",
    "    y_new = b * x\n",
    "    x, y = x_new, y_new\n",
    "    x_vals.append(x)\n",
    "    y_vals.append(y)\n",
    "\n",
    "fig, ax = plt.subplots(figsize=(8, 6))\n",
    "ax.set_xlim(min(x_vals), max(x_vals))\n",
    "ax.set_ylim(min(y_vals), max(y_vals))\n",
    "ax.set_title(\"Hénon Map Attractor\")\n",
    "ax.set_xlabel(\"x\")\n",
    "ax.set_ylabel(\"y\")\n",
    "\n",
    "sc = ax.scatter([], [], s=0.3, color='darkblue', alpha=0.6)\n",
    "\n",
    "def update(frame):\n",
    "    sc.set_offsets(np.column_stack((x_vals[:frame], y_vals[:frame])))\n",
    "    return sc,\n",
    "\n",
    "ani = FuncAnimation(fig, update, frames=np.arange(100, num_points, 100), interval=75, blit=False, repeat=False)\n",
    "plt.show()\n"
   ]
  }
 ],
 "metadata": {
  "kernelspec": {
   "display_name": "base",
   "language": "python",
   "name": "python3"
  },
  "language_info": {
   "codemirror_mode": {
    "name": "ipython",
    "version": 3
   },
   "file_extension": ".py",
   "mimetype": "text/x-python",
   "name": "python",
   "nbconvert_exporter": "python",
   "pygments_lexer": "ipython3",
   "version": "3.12.7"
  }
 },
 "nbformat": 4,
 "nbformat_minor": 5
}
